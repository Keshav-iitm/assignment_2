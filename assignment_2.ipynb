{
 "cells": [
  {
   "cell_type": "code",
   "execution_count": 9,
   "metadata": {},
   "outputs": [
    {
     "name": "stdout",
     "output_type": "stream",
     "text": [
      "VS Code + Jupyter is working!\n"
     ]
    }
   ],
   "source": [
    "print(\"VS Code + Jupyter is working!\")\n"
   ]
  },
  {
   "cell_type": "markdown",
   "metadata": {},
   "source": [
    "Question 1 - Flexible CNN\n",
    "\n",
    "This section implements a flexible CNN as required in Question 1.\n",
    "\n",
    "  5 Conv-Activation-Pool blocks\n",
    "  Dense + Output layer\n",
    "  Fully configurable architecture\n",
    "  Compatible with resized iNaturalist images\n"
   ]
  },
  {
   "cell_type": "code",
   "execution_count": 10,
   "metadata": {},
   "outputs": [
    {
     "name": "stderr",
     "output_type": "stream",
     "text": [
      "wandb: WARNING Calling wandb.login() after wandb.init() has no effect.\n"
     ]
    }
   ],
   "source": [
    "import torch\n",
    "import torch.nn as nn\n",
    "import torch.nn.functional as F\n",
    "import torchvision\n",
    "import torchvision.transforms as transforms\n",
    "from torch.utils.data import DataLoader\n",
    "import wandb\n",
    "\n",
    "wandb.login()\n",
    "\n",
    "wandb.init(\n",
    "    project=\"DA6401-Assignment2\",\n",
    "    name=\"cnn-from-scratch\",\n",
    "    config={\n",
    "        \"epochs\": 10,\n",
    "        \"batch_size\": 64,\n",
    "        \"lr\": 0.001\n",
    "    }\n",
    ")\n",
    "\n",
    "transform = transforms.Compose([\n",
    "    transforms.ToTensor(),\n",
    "    transforms.Normalize((0.5, 0.5, 0.5), (0.5, 0.5, 0.5))\n",
    "])\n",
    "\n",
    "train_dataset = torchvision.datasets.CIFAR10(root='./data', train=True, download=True, transform=transform)\n",
    "test_dataset = torchvision.datasets.CIFAR10(root='./data', train=False, download=True, transform=transform)\n",
    "\n",
    "train_loader = DataLoader(train_dataset, batch_size=64, shuffle=True)\n",
    "test_loader = DataLoader(test_dataset, batch_size=64, shuffle=False)"
   ]
  },
  {
   "cell_type": "code",
   "execution_count": 13,
   "metadata": {},
   "outputs": [],
   "source": [
    "import torch\n",
    "import torch.nn as nn\n",
    "import torch.nn.functional as F\n",
    "\n",
    "class FlexibleCNN(nn.Module):\n",
    "    \"\"\"\n",
    "    Assignment Q1: Flexible CNN with 5 convolutional blocks.\n",
    "    Each block = [Conv2D → Activation → MaxPool2D].\n",
    "    Followed by 1 dense layer + output layer.\n",
    "    Supports custom filter sizes, channels, activation function, and dense units.\n",
    "    Assumes input images are resized to 224x224 (e.g., iNaturalist dataset).\n",
    "    \"\"\"\n",
    "    def __init__(\n",
    "        self,\n",
    "        input_channels=3,\n",
    "        conv_channels=[32, 64, 128, 256, 512],\n",
    "        kernel_sizes=[3, 3, 3, 3, 3],\n",
    "        activation_fn=nn.ReLU,\n",
    "        dense_neurons=256,\n",
    "        num_classes=101\n",
    "    ):\n",
    "        super(FlexibleCNN, self).__init__()\n",
    "\n",
    "        # Store activation function class and initialize once\n",
    "        self.activation_fn = activation_fn()\n",
    "\n",
    "        # Build conv-activation-pool blocks\n",
    "        layers = []\n",
    "        in_channels = input_channels\n",
    "\n",
    "        for out_channels, kernel_size in zip(conv_channels, kernel_sizes):\n",
    "            layers.append(nn.Conv2d(\n",
    "                in_channels=in_channels,\n",
    "                out_channels=out_channels,\n",
    "                kernel_size=kernel_size,\n",
    "                padding=kernel_size // 2\n",
    "            ))\n",
    "            layers.append(self.activation_fn)\n",
    "            layers.append(nn.MaxPool2d(kernel_size=2, stride=2))\n",
    "            in_channels = out_channels\n",
    "\n",
    "        self.conv_stack = nn.Sequential(*layers)\n",
    "\n",
    "        # After 5 maxpoolings on 224x224 → size becomes 7x7\n",
    "        self.flattened_size = conv_channels[-1] * 7 * 7\n",
    "\n",
    "        self.fc1 = nn.Linear(self.flattened_size, dense_neurons)\n",
    "        self.dropout = nn.Dropout(0.5)\n",
    "        self.fc2 = nn.Linear(dense_neurons, num_classes)\n",
    "\n",
    "    def forward(self, x):\n",
    "        x = self.conv_stack(x)\n",
    "        x = x.view(x.size(0), -1)                  # Flatten\n",
    "        x = self.activation_fn(self.fc1(x))        # Dense layer + activation\n",
    "        x = self.dropout(x)                        # Dropout\n",
    "        x = self.fc2(x)                            # Output logits\n",
    "        return x\n",
    "\n",
    "\n",
    "# import torch\n",
    "# import torch.nn as nn\n",
    "# import torch.nn.functional as F\n",
    "\n",
    "# class SimpleCNN(nn.Module):\n",
    "#     def __init__(self, num_classes):\n",
    "#         super(SimpleCNN, self).__init__()\n",
    "\n",
    "#         # 5 convolutional layers\n",
    "#         self.conv1 = nn.Conv2d(3, 32, kernel_size=3, padding=1)    # [3 → 32]\n",
    "#         self.conv2 = nn.Conv2d(32, 64, kernel_size=3, padding=1)   # [32 → 64]\n",
    "#         self.conv3 = nn.Conv2d(64, 128, kernel_size=3, padding=1)  # [64 → 128]\n",
    "#         self.conv4 = nn.Conv2d(128, 256, kernel_size=3, padding=1) # [128 → 256]\n",
    "#         self.conv5 = nn.Conv2d(256, 512, kernel_size=3, padding=1) # [256 → 512]\n",
    "\n",
    "#         # Max pooling layer (we'll reuse this)\n",
    "#         self.pool = nn.MaxPool2d(kernel_size=2, stride=2)\n",
    "\n",
    "#         # Fully connected layers\n",
    "#         self.fc1 = nn.Linear(512 * 4 * 4, 256)   # 512 channels, 4x4 size after pooling\n",
    "#         self.dropout = nn.Dropout(0.5)\n",
    "#         self.fc2 = nn.Linear(256, num_classes)\n",
    "\n",
    "#     def forward(self, x):\n",
    "#         x = F.relu(self.conv1(x))               # [32x32]\n",
    "#         x = self.pool(F.relu(self.conv2(x)))    # [16x16]\n",
    "#         x = self.pool(F.relu(self.conv3(x)))    # [8x8]\n",
    "#         x = self.pool(F.relu(self.conv4(x)))    # [4x4]\n",
    "#         x = self.pool(F.relu(self.conv5(x)))    # [2x2] — optional based on design, we keep at 4x4\n",
    "\n",
    "#         x = x.view(x.size(0), -1)               # Flatten: [batch, 512*4*4]\n",
    "#         x = F.relu(self.fc1(x))\n",
    "#         x = self.dropout(x)\n",
    "#         x = self.fc2(x)\n",
    "#         return x\n",
    "\n",
    "\n",
    "#     def forward(self, x):\n",
    "#         x = F.relu(self.conv1(x))    # [B, 32, 32, 32]\n",
    "#         x = self.pool(F.relu(self.conv2(x)))  # [B, 64, 16, 16]\n",
    "#         x = self.pool(F.relu(self.conv3(x)))  # [B, 128, 8, 8]\n",
    "        \n",
    "#         x = x.view(x.size(0), -1)    # Flatten → [B, 128*8*8]\n",
    "#         x = F.relu(self.fc1(x))\n",
    "#         x = self.dropout(x)\n",
    "#         x = self.fc2(x)\n",
    "#         return x\n",
    "# model = SimpleCNN(num_classes=10)\n",
    "# device = torch.device(\"cuda\" if torch.cuda.is_available() else \"cpu\")\n",
    "# model.to(device)\n"
   ]
  },
  {
   "cell_type": "code",
   "execution_count": null,
   "metadata": {},
   "outputs": [],
   "source": [
    "\n"
   ]
  }
 ],
 "metadata": {
  "kernelspec": {
   "display_name": "Python 3",
   "language": "python",
   "name": "python3"
  },
  "language_info": {
   "codemirror_mode": {
    "name": "ipython",
    "version": 3
   },
   "file_extension": ".py",
   "mimetype": "text/x-python",
   "name": "python",
   "nbconvert_exporter": "python",
   "pygments_lexer": "ipython3",
   "version": "3.9.2"
  }
 },
 "nbformat": 4,
 "nbformat_minor": 2
}
